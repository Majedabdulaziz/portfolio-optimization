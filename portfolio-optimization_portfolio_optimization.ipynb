{
 "cells": [
  {
   "cell_type": "markdown",
   "metadata": {},
   "source": [
    "# Portfolio Optimization with the Markowitz Model\n",
    "\n",
    "This notebook demonstrates how to use real historical stock data to build an optimal portfolio using the Markowitz mean-variance optimization approach."
   ]
  },
  {
   "cell_type": "code",
   "metadata": {},
   "execution_count": null,
   "outputs": [],
   "source": [
    "# Install dependencies (uncomment if running in Colab or a fresh environment)\n",
    "# !pip install numpy pandas matplotlib yfinance scipy"
   ]
  },
  {
   "cell_type": "markdown",
   "metadata": {},
   "source": [
    "## 1. Import Libraries"
   ]
  },
  {
   "cell_type": "code",
   "metadata": {},
   "execution_count": null,
   "outputs": [],
   "source": [
    "import numpy as np\n",
    "import pandas as pd\n",
    "import yfinance as yf\n",
    "import matplotlib.pyplot as plt\n",
    "from scipy.optimize import minimize"
   ]
  },
  {
   "cell_type": "markdown",
   "metadata": {},
   "source": [
    "## 2. Download Stock Data"
   ]
  },
  {
   "cell_type": "code",
   "metadata": {},
   "execution_count": null,
   "outputs": [],
   "source": [
    "# Choose your stock tickers (edit this list as you like)\n",
    "tickers = ['AAPL', 'MSFT', 'GOOGL', 'AMZN', 'META']\n",
    "data = yf.download(tickers, start=\"2020-01-01\", end=\"2024-12-31\")['Adj Close']\n",
    "data = data.dropna()\n",
    "data.tail()"
   ]
  },
  {
   "cell_type": "markdown",
   "metadata": {},
   "source": [
    "## 3. Calculate Returns"
   ]
  },
  {
   "cell_type": "code",
   "metadata": {},
   "execution_count": null,
   "outputs": [],
   "source": [
    "returns = data.pct_change().dropna()\n",
    "mean_returns = returns.mean() * 252  # annualized\n",
    "cov_matrix = returns.cov() * 252     # annualized\n",
    "returns.tail()"
   ]
  },
  {
   "cell_type": "markdown",
   "metadata": {},
   "source": [
    "## 4. Simulate Random Portfolios (Monte Carlo)"
   ]
  },
  {
   "cell_type": "code",
   "metadata": {},
   "execution_count": null,
   "outputs": [],
   "source": [
    "num_portfolios = 10000\n",
    "results = np.zeros((3 + len(tickers), num_portfolios))\n",
    "\n",
    "for i in range(num_portfolios):\n",
    "    weights = np.random.random(len(tickers))\n",
    "    weights /= np.sum(weights)\n",
    "    portfolio_return = np.dot(weights, mean_returns)\n",
    "    portfolio_stddev = np.sqrt(np.dot(weights.T, np.dot(cov_matrix, weights)))\n",
    "    sharpe = portfolio_return / portfolio_stddev\n",
    "    results[0, i] = portfolio_return\n",
    "    results[1, i] = portfolio_stddev\n",
    "    results[2, i] = sharpe\n",
    "    for j in range(len(weights)):\n",
    "        results[j+3, i] = weights[j]"
   ]
  },
  {
   "cell_type": "markdown",
   "metadata": {},
   "source": [
    "## 5. Plot Efficient Frontier"
   ]
  },
  {
   "cell_type": "code",
   "metadata": {},
   "execution_count": null,
   "outputs": [],
   "source": [
    "plt.figure(figsize=(10,6))\n",
    "plt.scatter(results[1,:], results[0,:], c=results[2,:], cmap='viridis', marker='o', s=10, alpha=0.3)\n",
    "plt.xlabel('Volatility (Std. Deviation)')\n",
    "plt.ylabel('Return')\n",
    "plt.colorbar(label='Sharpe Ratio')\n",
    "plt.title('Portfolio Optimization - Markowitz Efficient Frontier')\n",
    "plt.show()"
   ]
  },
  {
   "cell_type": "markdown",
   "metadata": {},
   "source": [
    "## 6. Find the Optimal Portfolio (Max Sharpe Ratio)"
   ]
  },
  {
   "cell_type": "code",
   "metadata": {},
   "execution_count": null,
   "outputs": [],
   "source": [
    "def neg_sharpe(weights, mean_returns, cov_matrix):\n",
    "    portfolio_return = np.dot(weights, mean_returns)\n",
    "    portfolio_stddev = np.sqrt(np.dot(weights.T, np.dot(cov_matrix, weights)))\n",
    "    return -portfolio_return / portfolio_stddev\n",
    "\n",
    "constraints = ({'type': 'eq', 'fun': lambda x: np.sum(x) - 1})\n",
    "bounds = tuple((0, 1) for _ in range(len(tickers)))\n",
    "initial_guess = len(tickers) * [1. / len(tickers)]\n",
    "\n",
    "optimal = minimize(neg_sharpe, initial_guess, args=(mean_returns, cov_matrix), method='SLSQP', bounds=bounds, constraints=constraints)\n",
    "optimal_weights = optimal.x\n",
    "print('Optimal weights:')\n",
    "for ticker, weight in zip(tickers, optimal_weights):\n",
    "    print(f'{ticker}: {weight:.2%}')"
   ]
  },
  {
   "cell_type": "markdown",
   "metadata": {},
   "source": [
    "## 7. Show Results in a Table"
   ]
  },
  {
   "cell_type": "code",
   "metadata": {},
   "execution_count": null,
   "outputs": [],
   "source": [
    "result_df = pd.DataFrame({'Ticker': tickers, 'Optimal Weight': optimal_weights})\n",
    "result_df['Optimal Weight'] = result_df['Optimal Weight'].map(lambda x: f'{x:.2%}')\n",
    "result_df"
   ]
  },
  {
   "cell_type": "markdown",
   "metadata": {},
   "source": [
    "---\n",
    "You can now edit the tickers or time range and explore further!\n",
    "\n",
    "**Author:** Majed Abdulaziz\n",
    "\n",
    "**Date:** August 2025"
   ]
  }
 ],
 "metadata": {
  "kernelspec": {
   "display_name": "Python 3",
   "language": "python",
   "name": "python3"
  },
  "language_info": {
   "name": "python"
  }
 },
 "nbformat": 4,
 "nbformat_minor": 2
}